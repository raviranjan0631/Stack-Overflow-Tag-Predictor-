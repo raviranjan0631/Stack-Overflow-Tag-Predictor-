{
 "cells": [
  {
   "cell_type": "markdown",
   "metadata": {},
   "source": [
    "# Stack Overflow: Tag Prediction"
   ]
  },
  {
   "cell_type": "markdown",
   "metadata": {},
   "source": [
    "<p style='font-size:18px'><b> Problem Statemtent </b></p>\n",
    "Suggest the tags based on the content that was there in the question posted on Stackoverflow."
   ]
  },
  {
   "cell_type": "markdown",
   "metadata": {},
   "source": [
    "<h2> Source / useful links </h2>\n",
    "\n",
    "Data Source : https://www.kaggle.com/c/facebook-recruiting-iii-keyword-extraction/data <br>\n",
    "Youtube : https://youtu.be/nNDqbUhtIRg <br>\n",
    "Research paper : https://www.microsoft.com/en-us/research/wp-content/uploads/2016/02/tagging-1.pdf <br>\n",
    "Research paper : https://dl.acm.org/citation.cfm?id=2660970&dl=ACM&coll=DL"
   ]
  },
  {
   "cell_type": "markdown",
   "metadata": {},
   "source": [
    "<h2> Real World / Business Objectives and Constraints </h2>\n",
    "\n",
    "1. Predict as many tags as possible with high precision and recall.\n",
    "2. Incorrect tags could impact customer experience on StackOverflow.\n",
    "3. No strict latency constraints"
   ]
  },
  {
   "cell_type": "markdown",
   "metadata": {},
   "source": [
    "<h3> Data Overview </h3>"
   ]
  },
  {
   "cell_type": "markdown",
   "metadata": {},
   "source": [
    "Refer: https://www.kaggle.com/c/facebook-recruiting-iii-keyword-extraction/data\n",
    "<br>\n",
    "All of the data is in 2 files: Train and Test.<br />\n",
    "<pre>\n",
    "<b>Train.csv</b> contains 4 columns: Id,Title,Body,Tags.<br />\n",
    "<b>Test.csv</b> contains the same columns but without the Tags, which you are to predict.<br />\n",
    "<b>Size of Train.csv</b> - 6.75GB<br />\n",
    "<b>Size of Test.csv</b> - 2GB<br />\n",
    "<b>Number of rows in Train.csv</b> = 6034195<br />\n",
    "</pre>\n",
    "The questions are randomized and contains a mix of verbose text sites as well as sites related to math and programming. The number of questions from each site may vary, and no filtering has been performed on the questions (such as closed questions).<br />\n",
    "<br />"
   ]
  },
  {
   "cell_type": "markdown",
   "metadata": {},
   "source": [
    "__Example Data Point__\n",
    "\n",
    "<pre>\n",
    "<b>Title</b>:  Implementing Boundary Value Analysis of Software Testing in a C++ program?\n",
    "<b>Body </b>: <pre><code>\n",
    "        #include&lt;\n",
    "        iostream&gt;\\n\n",
    "        #include&lt;\n",
    "        stdlib.h&gt;\\n\\n\n",
    "        using namespace std;\\n\\n\n",
    "        int main()\\n\n",
    "        {\\n\n",
    "                 int n,a[n],x,c,u[n],m[n],e[n][4];\\n         \n",
    "                 cout&lt;&lt;\"Enter the number of variables\";\\n         cin&gt;&gt;n;\\n\\n         \n",
    "                 cout&lt;&lt;\"Enter the Lower, and Upper Limits of the variables\";\\n         \n",
    "                 for(int y=1; y&lt;n+1; y++)\\n         \n",
    "                 {\\n                 \n",
    "                    cin&gt;&gt;m[y];\\n                 \n",
    "                    cin&gt;&gt;u[y];\\n         \n",
    "                 }\\n         \n",
    "                 for(x=1; x&lt;n+1; x++)\\n         \n",
    "                 {\\n                 \n",
    "                    a[x] = (m[x] + u[x])/2;\\n         \n",
    "                 }\\n         \n",
    "                 c=(n*4)-4;\\n         \n",
    "                 for(int a1=1; a1&lt;n+1; a1++)\\n         \n",
    "                 {\\n\\n             \n",
    "                    e[a1][0] = m[a1];\\n             \n",
    "                    e[a1][1] = m[a1]+1;\\n             \n",
    "                    e[a1][2] = u[a1]-1;\\n             \n",
    "                    e[a1][3] = u[a1];\\n         \n",
    "                 }\\n         \n",
    "                 for(int i=1; i&lt;n+1; i++)\\n         \n",
    "                 {\\n            \n",
    "                    for(int l=1; l&lt;=i; l++)\\n            \n",
    "                    {\\n                 \n",
    "                        if(l!=1)\\n                 \n",
    "                        {\\n                    \n",
    "                            cout&lt;&lt;a[l]&lt;&lt;\"\\\\t\";\\n                 \n",
    "                        }\\n            \n",
    "                    }\\n            \n",
    "                    for(int j=0; j&lt;4; j++)\\n            \n",
    "                    {\\n                \n",
    "                        cout&lt;&lt;e[i][j];\\n                \n",
    "                        for(int k=0; k&lt;n-(i+1); k++)\\n                \n",
    "                        {\\n                    \n",
    "                            cout&lt;&lt;a[k]&lt;&lt;\"\\\\t\";\\n               \n",
    "                        }\\n                \n",
    "                        cout&lt;&lt;\"\\\\n\";\\n            \n",
    "                    }\\n        \n",
    "                 }    \\n\\n        \n",
    "                 system(\"PAUSE\");\\n        \n",
    "                 return 0;    \\n\n",
    "        }\\n\n",
    "        </code></pre>\\n\\n\n",
    "        <p>The answer should come in the form of a table like</p>\\n\\n\n",
    "        <pre><code>       \n",
    "        1            50              50\\n       \n",
    "        2            50              50\\n       \n",
    "        99           50              50\\n       \n",
    "        100          50              50\\n       \n",
    "        50           1               50\\n       \n",
    "        50           2               50\\n       \n",
    "        50           99              50\\n       \n",
    "        50           100             50\\n       \n",
    "        50           50              1\\n       \n",
    "        50           50              2\\n       \n",
    "        50           50              99\\n       \n",
    "        50           50              100\\n\n",
    "        </code></pre>\\n\\n\n",
    "        <p>if the no of inputs is 3 and their ranges are\\n\n",
    "        1,100\\n\n",
    "        1,100\\n\n",
    "        1,100\\n\n",
    "        (could be varied too)</p>\\n\\n\n",
    "        <p>The output is not coming,can anyone correct the code or tell me what\\'s wrong?</p>\\n'\n",
    "<b>Tags </b>: 'c++ c'\n",
    "</pre>"
   ]
  },
  {
   "cell_type": "markdown",
   "metadata": {},
   "source": [
    "<h1>Our Approach</h1>\n",
    "\n",
    "1. We first downloaded the train and the test data from : https://www.kaggle.com/c/facebook-recruiting-iii-keyword-extraction/data\n",
    "2. As the dataset was too big(around 8Gb) we decided to take 100k data points to work with.\n",
    "3. We saved the 100k points as a csv file. We did the EDA\n",
    "4. Most frequent tag (i.e. c#) is used 331505 times.\n",
    "5. Since some tags occur much more frequenctly than others, Micro-averaged F1-score is the appropriate metric for this probelm.\n",
    "6. 384 Tags are used more than 100 times\n",
    "7. 1 Tags are used more than 7000 times\n",
    "8. Maximum number of tags per question: 5\n",
    "9. Minimum number of tags per question: 1\n",
    "10. Avg. number of tags per question: 2.883030\n",
    "11. Most of the questions are having 2 or 3 tags"
   ]
  },
  {
   "cell_type": "markdown",
   "metadata": {},
   "source": [
    "<h1>Summary</h1>\n",
    "<p>Here is a Comparison of our models.</p>\n",
    "\n",
    "\n",
    "<table style=\"width:100%\">\n",
    "  <tr>\n",
    "    <th>No of Tags</th>\n",
    "    <th>Model</th>\n",
    "    <th>Precision</th>\n",
    "     <th>Recall</th>\n",
    "      <th>F1-measure</th>\n",
    "      <th>Hyperparameter</th>\n",
    "      \n",
    "      \n",
    "  </tr>\n",
    "  <tr>\n",
    "    <td>500</td>\n",
    "    <td>Logistic Regression</td>\n",
    "    <td>0.6464</td>\n",
    "    <td>0.3602</td>\n",
    "    <td>0.4626</td>\n",
    "    <td>100</td>\n",
    "  </tr>\n",
    "   <tr>\n",
    "    <td>500</td>\n",
    "    <td>Linear SVM</td>\n",
    "    <td>0.8033</td>\n",
    "    <td>0.2022</td>\n",
    "    <td>0.3231</td>\n",
    "    <td>0.00001</td>\n",
    "  </tr>\n",
    "  </tr>\n",
    "   <tr>\n",
    "    <td>500</td>\n",
    "    <td>Linear SVM</td>\n",
    "    <td>0.8046</td>\n",
    "    <td>0.2027</td>\n",
    "    <td>0.3239</td>\n",
    "    <td>0.0001</td>\n",
    "  </tr>\n",
    "  <tr>\n",
    "    <td>5500</td>\n",
    "    <td>Logistic Regression</td>\n",
    "    <td>0.7205</td>\n",
    "    <td>0.2298</td>\n",
    "    <td> 0.3485</td>\n",
    "    <td>0.00001</td>\n",
    "  </tr>\n",
    "</table> "
   ]
  }
 ],
 "metadata": {
  "kernelspec": {
   "display_name": "Python 3",
   "language": "python",
   "name": "python3"
  },
  "language_info": {
   "codemirror_mode": {
    "name": "ipython",
    "version": 3
   },
   "file_extension": ".py",
   "mimetype": "text/x-python",
   "name": "python",
   "nbconvert_exporter": "python",
   "pygments_lexer": "ipython3",
   "version": "3.6.5"
  }
 },
 "nbformat": 4,
 "nbformat_minor": 2
}
